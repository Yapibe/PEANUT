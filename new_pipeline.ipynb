{
 "cells": [
  {
   "cell_type": "code",
   "execution_count": 1,
   "id": "initial_id",
   "metadata": {
    "collapsed": true,
    "ExecuteTime": {
     "end_time": "2024-01-20T11:59:08.908822700Z",
     "start_time": "2024-01-20T11:59:04.258152300Z"
    }
   },
   "outputs": [],
   "source": [
    "import pandas as pd\n",
    "import numpy as np\n",
    "from os import path\n",
    "from datetime import datetime\n",
    "from scipy.stats import rankdata, ranksums"
   ]
  },
  {
   "cell_type": "code",
   "outputs": [],
   "source": [
    "def load_pathways_genes():\n",
    "    pathways = {}\n",
    "    with open(pathway_file_dir, 'r') as f:\n",
    "        for line in f:\n",
    "            parts = line.strip().upper().split('\\t')  # Split each line into parts\n",
    "            if len(parts) < 3:  # If there are not enough parts for name, size, and genes\n",
    "                continue\n",
    "\n",
    "            pathway_name = parts[0]  # The pathway name is the first part\n",
    "            try:\n",
    "                pathway_size = int(parts[1])  # The pathway size is the second part\n",
    "            except ValueError:\n",
    "                continue  # Skip this line if the size is not an integer\n",
    "\n",
    "            # Further split the gene part by spaces and then take the number of genes specified by pathway_size\n",
    "            genes = parts[2]  # The third part is the space-separated list of gene IDs\n",
    "            gene_list = genes.split()  # Split the genes by spaces\n",
    "\n",
    "            # Convert each gene to an integer\n",
    "            try:\n",
    "                genes = [int(gene) for gene in gene_list[:pathway_size]]\n",
    "            except ValueError:\n",
    "                continue  # Skip this line if any gene is not an integer\n",
    "\n",
    "            pathways[pathway_name] = genes  # Add the pathway and its genes to the dictionary\n",
    "\n",
    "    return pathways\n",
    "\n",
    "\n",
    "def get_scores():\n",
    "    # Path to the file containing the raw scores (adjust as necessary)\n",
    "    raw_scores_file_path = experiment_file_path\n",
    "\n",
    "    try:\n",
    "        # Load raw data from the file\n",
    "        raw_data = pd.read_excel(raw_scores_file_path)\n",
    "\n",
    "        # Perform necessary preprocessing on raw_data\n",
    "        # For instance, sorting, filtering, or extracting specific columns\n",
    "        # Assuming 'GeneID' and 'Score' are columns in the raw data\n",
    "        sorted_raw_data = raw_data.sort_values(by='GeneID').reset_index(drop=True)\n",
    "\n",
    "        # Create a dictionary for gene_id_to_score\n",
    "        scores_dict = {gene_id: score for gene_id, score in zip(sorted_raw_data['GeneID'], sorted_raw_data['Score'])}\n",
    "        return scores_dict\n",
    "\n",
    "    except FileNotFoundError:\n",
    "        print(f\"File not found: {raw_scores_file_path}\")\n",
    "        return pd.DataFrame(), {}\n",
    "    except Exception as e:\n",
    "        print(f\"An error occurred: {e}\")\n",
    "        return pd.DataFrame(), {}"
   ],
   "metadata": {
    "collapsed": false,
    "ExecuteTime": {
     "end_time": "2024-01-20T11:59:09.029291900Z",
     "start_time": "2024-01-20T11:59:08.941584500Z"
    }
   },
   "id": "c763e9b4e3f3af01",
   "execution_count": 2
  },
  {
   "cell_type": "code",
   "outputs": [],
   "source": [
    "def bh_correction(p_values):\n",
    "    p_vals_rank = rankdata(p_values, 'max') - 1\n",
    "    p_vals_rank_ord = rankdata(p_values, 'ordinal') - 1\n",
    "\n",
    "    p_values_sorted = np.zeros_like(p_vals_rank)\n",
    "    p_values_sorted[p_vals_rank_ord] = np.arange(len(p_vals_rank_ord))\n",
    "\n",
    "    p_vals = p_values * (len(p_values) / (p_vals_rank + 1))\n",
    "    adj_p_vals_by_rank = p_vals[p_values_sorted]\n",
    "\n",
    "    p_vals_ordered = np.minimum(adj_p_vals_by_rank, np.minimum.accumulate(adj_p_vals_by_rank[::-1])[::-1])\n",
    "    adj_p_vals = p_vals_ordered[p_vals_rank]\n",
    "    return adj_p_vals"
   ],
   "metadata": {
    "collapsed": false,
    "ExecuteTime": {
     "end_time": "2024-01-20T11:59:09.032293900Z",
     "start_time": "2024-01-20T11:59:08.960101900Z"
    }
   },
   "id": "221368c21947043a",
   "execution_count": 3
  },
  {
   "cell_type": "code",
   "outputs": [],
   "source": [
    "def perform_statist():\n",
    "    significant_pathways_with_genes = {}\n",
    "    ks_p_values = []\n",
    "    pathway_names = []\n",
    "    results = {}\n",
    "    # Filter genes for each pathway, only includes genes that are in the experiment and in the pathway file\n",
    "    genes_by_pathway_filtered = {\n",
    "        pathway: [gene_id for gene_id in genes if gene_id in scores]\n",
    "        for pathway, genes in genes_by_pathway.items()\n",
    "    }\n",
    "\n",
    "    # Filter pathways based on gene count criteria\n",
    "    pathways_with_many_genes = [\n",
    "        pathway for pathway, genes in genes_by_pathway_filtered.items()\n",
    "        if minimum_gene_per_pathway <= len(genes) <= maximum_gene_per_pathway\n",
    "    ]\n",
    "\n",
    "    # Perform statistical tests\n",
    "    print('After filtering:', len(pathways_with_many_genes))\n",
    "    for pathway in pathways_with_many_genes:\n",
    "        pathway_scores = [scores[gene_id] for gene_id in genes_by_pathway_filtered[pathway]]\n",
    "        background_genes = set(scores.keys()) - set(genes_by_pathway_filtered[pathway])\n",
    "        background_scores = [scores[gene_id] for gene_id in background_genes]\n",
    "        result = statistic_test(pathway_scores, background_scores)\n",
    "        results[pathway] = result\n",
    "        ks_p_values.append(result[0])\n",
    "        pathway_names.append(pathway)\n",
    "\n",
    "    # Apply BH correction\n",
    "    adjusted_p_values = bh_correction(np.array(ks_p_values))\n",
    "\n",
    "    # Filter significant pathways based on adjusted p-values\n",
    "    for i, pathway in enumerate(pathway_names):\n",
    "        if adjusted_p_values[i] < 0.05:  # Using a significance threshold of 0.05\n",
    "            significant_pathways_with_genes[pathway] = (\n",
    "            genes_by_pathway_filtered[pathway], adjusted_p_values[i], results[pathway][1])\n",
    "\n",
    "    return significant_pathways_with_genes, pathways_with_many_genes"
   ],
   "metadata": {
    "collapsed": false,
    "ExecuteTime": {
     "end_time": "2024-01-20T12:00:43.409901700Z",
     "start_time": "2024-01-20T12:00:43.248385300Z"
    }
   },
   "id": "26f68ce5f1aadb51",
   "execution_count": 4
  },
  {
   "cell_type": "code",
   "outputs": [],
   "source": [
    "def perform_statist_mann_whitney(pathways_with_many_genes):\n",
    "    mw_p_values = []\n",
    "    significant_pathways_with_genes = {}\n",
    "    # Mann-Whitney U test and FDR\n",
    "    for pathway in pathways_with_many_genes:\n",
    "        pathway_scores = [scores[gene_id] for gene_id in pathways_with_many_genes[pathway][0]]\n",
    "        background_genes = set(scores.keys()) - set(pathways_with_many_genes[pathway][0])\n",
    "        background_scores = [scores[gene_id] for gene_id in background_genes]\n",
    "\n",
    "        # Perform Mann-Whitney U Test\n",
    "        mw_pval = wilcoxon_rank_sums_test(pathway_scores, background_scores)\n",
    "        mw_p_values.append(mw_pval)\n",
    "\n",
    "\n",
    "    # Apply BH correction to Mann-Whitney p-values\n",
    "    adjusted_mw_p_values = bh_correction(np.array(mw_p_values))\n",
    "\n",
    "    # Filter significant pathways based on adjusted Mann-Whitney p-values\n",
    "    filtered_pathways = []\n",
    "    for i, (pathway, genes) in enumerate(pathways_with_many_genes.items()):\n",
    "        if adjusted_mw_p_values[i] < 0.05:  # Using a significance threshold of 0.05\n",
    "            significant_pathways_with_genes[pathway] = genes\n",
    "            filtered_pathways.append({\n",
    "                'Pathway': pathway,\n",
    "                'Adjusted_p_value': adjusted_mw_p_values[i],\n",
    "                'Genes': genes[0]\n",
    "            })\n",
    "\n",
    "        # Convert filtered pathways to a DataFrame\n",
    "    pathways_df = pd.DataFrame(filtered_pathways)\n",
    "\n",
    "    # Sort pathways by their adjusted p-value\n",
    "    pathways_df.sort_values(by='Adjusted_p_value', inplace=True)\n",
    "    # Filter pathways based on Jaccard index\n",
    "    filtered_pathways = {}\n",
    "    for i, row in pathways_df.iterrows():\n",
    "        current_genes = set(row['Genes'])  # Ensure row['Genes'] is a list of hashable elements\n",
    "        is_similar = False\n",
    "        for _, filtered_row in filtered_pathways.items():\n",
    "            filtered_genes = set(filtered_row['Genes'])\n",
    "            if jaccard_index(current_genes, filtered_genes) > JAC_THRESHOLD:\n",
    "                is_similar = True\n",
    "                break\n",
    "        if not is_similar:\n",
    "            filtered_pathways[row['Pathway']] = row\n",
    "    return filtered_pathways"
   ],
   "metadata": {
    "collapsed": false,
    "ExecuteTime": {
     "end_time": "2024-01-20T12:00:44.033676100Z",
     "start_time": "2024-01-20T12:00:43.982673700Z"
    }
   },
   "id": "ad2a8b797ccc803a",
   "execution_count": 5
  },
  {
   "cell_type": "code",
   "outputs": [],
   "source": [
    "def jaccard_index(set1, set2):\n",
    "    intersection = len(set1.intersection(set2))\n",
    "    union = len(set1.union(set2))\n",
    "    return intersection / union"
   ],
   "metadata": {
    "collapsed": false,
    "ExecuteTime": {
     "end_time": "2024-01-20T12:00:44.800531500Z",
     "start_time": "2024-01-20T12:00:44.770548Z"
    }
   },
   "id": "fc318021f3dd066b",
   "execution_count": 6
  },
  {
   "cell_type": "code",
   "outputs": [],
   "source": [
    "def kolmogorov_smirnov_test(experiment_scores, control_scores, alternative='two-sided'):\n",
    "    # Convert lists to numpy arrays and sort\n",
    "    experiment_scores = np.sort(experiment_scores)\n",
    "    control_scores = np.sort(control_scores)\n",
    "\n",
    "    # Initialize variables\n",
    "    en1 = len(experiment_scores)\n",
    "    en2 = len(control_scores)\n",
    "\n",
    "    # Calculate empirical cumulative distribution functions for both sets\n",
    "    data_all = np.concatenate([experiment_scores, control_scores])\n",
    "    cdf_experiment = np.searchsorted(experiment_scores, data_all, side='right') / en1\n",
    "    cdf_control = np.searchsorted(control_scores, data_all, side='right') / en2\n",
    "\n",
    "    # Find the maximum distance\n",
    "    D = np.max(np.abs(cdf_experiment - cdf_control))\n",
    "\n",
    "    # Calculate the KS statistic\n",
    "    en = np.sqrt(en1 * en2 / (en1 + en2))\n",
    "    p_value = ks((en + 0.12 + 0.11 / en) * D)\n",
    "\n",
    "    # Determine directionality\n",
    "    if np.mean(experiment_scores) > 0:\n",
    "        direction = 'greater'\n",
    "    elif np.mean(experiment_scores) < 0:\n",
    "        direction = 'less'\n",
    "    else:\n",
    "        direction = 'not significant'\n",
    "\n",
    "    return p_value, direction\n",
    "\n",
    "\n",
    "def ks(alam):\n",
    "    EPS1 = 1e-6  # Convergence criterion based on the term's absolute value\n",
    "    EPS2 = 1e-10  # Convergence criterion based on the sum's relative value\n",
    "    a2 = -2.0 * alam ** 2  # Squared and negated lambda for exponential calculation\n",
    "    fac = 2.0\n",
    "    sum = 0.0\n",
    "    termbf = 0.0\n",
    "\n",
    "    # Iteratively calculate the KS probability\n",
    "    for j in range(1, 101):\n",
    "        term = fac * np.exp(a2 * j ** 2)  # Calculate term of the series\n",
    "        sum += term  # Add to sum\n",
    "\n",
    "        # Check for convergence\n",
    "        if np.abs(term) <= EPS1 * termbf or np.abs(term) <= EPS2 * sum:\n",
    "            return sum\n",
    "\n",
    "        fac = -fac  # Alternate the sign\n",
    "        termbf = np.abs(term)  # Update term before flag\n",
    "\n",
    "    # Return 1.0 if the series does not converge in 100 terms\n",
    "    return 1.0"
   ],
   "metadata": {
    "collapsed": false,
    "ExecuteTime": {
     "end_time": "2024-01-20T12:00:45.323335Z",
     "start_time": "2024-01-20T12:00:45.273811300Z"
    }
   },
   "id": "21719e7a33faaf4b",
   "execution_count": 7
  },
  {
   "cell_type": "code",
   "outputs": [],
   "source": [
    "def wilcoxon_rank_sums_test(experiment_scores, elements_scores, alternative='two-sided'):\n",
    "    p_vals = ranksums(experiment_scores, elements_scores, alternative=alternative).pvalue\n",
    "    return p_vals"
   ],
   "metadata": {
    "collapsed": false,
    "ExecuteTime": {
     "end_time": "2024-01-20T12:00:46.072878600Z",
     "start_time": "2024-01-20T12:00:46.056858600Z"
    }
   },
   "id": "8728428c89881d2a",
   "execution_count": 8
  },
  {
   "cell_type": "code",
   "outputs": [],
   "source": [
    "def print_enriched_pathways(filtered_pathways, threshold=0.05):\n",
    "    \"\"\"\n",
    "    Prints the enriched pathways that pass a specified p-value threshold.\n",
    "\n",
    "    Args:\n",
    "        filtered_pathways (dict): Dictionary containing pathways and their details.\n",
    "        threshold (float): P-value threshold for filtering significant pathways.\n",
    "    \"\"\"\n",
    "    significant_count = 0\n",
    "    print(\"Enriched Pathways:\")\n",
    "    print(\"------------------\")\n",
    "    for pathway, details in filtered_pathways.items():\n",
    "        p_value = details.get('Adjusted_p_value')\n",
    "        if p_value and p_value < threshold:\n",
    "            print(f\"{pathway} P-Value: {p_value}\")\n",
    "            significant_count += 1\n",
    "\n",
    "    print(f\"===== {significant_count} enriched pathways\\n\")"
   ],
   "metadata": {
    "collapsed": false,
    "ExecuteTime": {
     "end_time": "2024-01-20T12:00:46.959639900Z",
     "start_time": "2024-01-20T12:00:46.934639500Z"
    }
   },
   "id": "242e8f7cf0534688",
   "execution_count": 9
  },
  {
   "cell_type": "code",
   "outputs": [],
   "source": [
    "minimum_gene_per_pathway = 20\n",
    "maximum_gene_per_pathway = 60\n",
    "FDR_threshold = 0.05\n",
    "JAC_THRESHOLD = 0.05 \n",
    "root_path = '/mnt/c/Users/pickh/PycharmProjects/Yair_propagation'\n",
    "output_path = '/mnt/c/Users/pickh/PycharmProjects/Yair_propagation/Outputs'\n",
    "figure_name = 'figure'\n",
    "figure_title = 'Pathway Enrichment'\n",
    "experiment_name = \"roded_T_v_N\"\n",
    "species = 'H_sapiens'\n",
    "data_file = 'Data'\n",
    "genes_names_file = 'H_sapiens.gene_info'  # optional if needed\n",
    "date = datetime.today().strftime('%d_%m_%Y__%H_%M_%S')\n",
    "pathway_file = 'pathways'\n",
    "data_dir = path.join(root_path, data_file)\n",
    "genes_names_file_path = path.join(data_dir, species, 'genes_names', genes_names_file)\n",
    "pathway_file_dir = path.join(data_dir, species, 'pathways', pathway_file)\n",
    "input_dir = path.join(root_path, 'Inputs', 'experiments_data', 'Parkinson')\n",
    "experiment_file_path = path.join(input_dir, f'{experiment_name}.xlsx')\n",
    "output_folder = path.join(root_path, 'Outputs', 'enrichment_scores', experiment_name)\n",
    "statistic_test = kolmogorov_smirnov_test\n",
    "results = dict()\n",
    "genes_by_pathway = load_pathways_genes()\n",
    "scores = get_scores()"
   ],
   "metadata": {
    "collapsed": false,
    "ExecuteTime": {
     "end_time": "2024-01-20T12:00:50.708879900Z",
     "start_time": "2024-01-20T12:00:48.124867200Z"
    }
   },
   "id": "259387e4a236027b",
   "execution_count": 10
  },
  {
   "cell_type": "code",
   "outputs": [
    {
     "name": "stdout",
     "output_type": "stream",
     "text": [
      "running enrichment\n",
      "After filtering: 1058\n"
     ]
    }
   ],
   "source": [
    "print(\"running enrichment\")\n",
    "significant_pathways_with_genes, pathway_with_many_genes = perform_statist()"
   ],
   "metadata": {
    "collapsed": false,
    "ExecuteTime": {
     "end_time": "2024-01-20T12:00:55.772187500Z",
     "start_time": "2024-01-20T12:00:52.111093200Z"
    }
   },
   "id": "a38623f82b8d8d0e",
   "execution_count": 11
  },
  {
   "cell_type": "code",
   "outputs": [],
   "source": [
    "filtered_pathways = perform_statist_mann_whitney(significant_pathways_with_genes)"
   ],
   "metadata": {
    "collapsed": false,
    "ExecuteTime": {
     "end_time": "2024-01-20T12:00:58.358788800Z",
     "start_time": "2024-01-20T12:00:57.465253100Z"
    }
   },
   "id": "61f16b2d1e515a8",
   "execution_count": 12
  },
  {
   "cell_type": "code",
   "outputs": [
    {
     "name": "stdout",
     "output_type": "stream",
     "text": [
      "finished enrichment\n",
      "Enriched Pathways:\n",
      "------------------\n",
      "REACTOME_SCF_SKP2_MEDIATED_DEGRADATION_OF_P27_P21 P-Value: 1.82477769417367e-08\n",
      "REACTOME_ACTIVATION_OF_THE_MRNA_UPON_BINDING_OF_THE_CAP_BINDING_COMPLEX_AND_EIFS_AND_SUBSEQUENT_BINDING_TO_43S P-Value: 1.82477769417367e-08\n",
      "WP_T_CELL_MODULATION_IN_PANCREATIC_CANCER P-Value: 2.18773019136929e-06\n",
      "WP_COMPLEMENT_SYSTEM P-Value: 4.2961000375710236e-05\n",
      "WP_PHOTODYNAMIC_THERAPYINDUCED_HIF1_SURVIVAL_SIGNALING P-Value: 8.59732062341705e-05\n",
      "REACTOME_ELASTIC_FIBRE_FORMATION P-Value: 0.00010622948158491842\n",
      "REACTOME_PERK_REGULATES_GENE_EXPRESSION P-Value: 0.00013926679579700103\n",
      "WP_OXIDATIVE_PHOSPHORYLATION P-Value: 0.00014417742347176674\n",
      "WP_DNA_REPLICATION P-Value: 0.0001508222462499153\n",
      "REACTOME_MITOCHONDRIAL_FATTY_ACID_BETA_OXIDATION P-Value: 0.00016679440693938405\n",
      "WP_RETT_SYNDROME_CAUSING_GENES P-Value: 0.00019551341716243908\n",
      "REACTOME_RUNX1_REGULATES_GENES_INVOLVED_IN_MEGAKARYOCYTE_DIFFERENTIATION_AND_PLATELET_FUNCTION P-Value: 0.00021527669143280124\n",
      "REACTOME_CYTOSOLIC_TRNA_AMINOACYLATION P-Value: 0.00021527669143280124\n",
      "KEGG_BASAL_CELL_CARCINOMA P-Value: 0.00021527669143280124\n",
      "KEGG_ABC_TRANSPORTERS P-Value: 0.00029600357232059606\n",
      "REACTOME_COOPERATION_OF_PREFOLDIN_AND_TRIC_CCT_IN_ACTIN_AND_TUBULIN_FOLDING P-Value: 0.0005003132144151733\n",
      "REACTOME_KERATINIZATION P-Value: 0.0005181503495242729\n",
      "WP_SELENIUM_MICRONUTRIENT_NETWORK P-Value: 0.0007169941807030588\n",
      "KEGG_ANTIGEN_PROCESSING_AND_PRESENTATION P-Value: 0.0007806389431761253\n",
      "BIOCARTA_NO1_PATHWAY P-Value: 0.0008029207534782723\n",
      "REACTOME_INTERACTION_BETWEEN_L1_AND_ANKYRINS P-Value: 0.0009076313127238091\n",
      "KEGG_PROTEIN_EXPORT P-Value: 0.0009076313127238091\n",
      "PID_AURORA_A_PATHWAY P-Value: 0.001055241752070103\n",
      "PID_FRA_PATHWAY P-Value: 0.0010703737812363186\n",
      "WP_STRIATED_MUSCLE_CONTRACTION_PATHWAY P-Value: 0.0019662531409418704\n",
      "REACTOME_ION_HOMEOSTASIS P-Value: 0.0023124191096306353\n",
      "WP_PKCGAMMA_CALCIUM_SIGNALING_PATHWAY_IN_ATAXIA P-Value: 0.0034230304781475247\n",
      "REACTOME_GENE_AND_PROTEIN_EXPRESSION_BY_JAK_STAT_SIGNALING_AFTER_INTERLEUKIN_12_STIMULATION P-Value: 0.003835836882961717\n",
      "REACTOME_SYNTHESIS_OF_ACTIVE_UBIQUITIN_ROLES_OF_E1_AND_E2_ENZYMES P-Value: 0.003921474531002663\n",
      "WP_HEMATOPOIETIC_STEM_CELL_DIFFERENTIATION P-Value: 0.004868824147326984\n",
      "KEGG_AMINO_SUGAR_AND_NUCLEOTIDE_SUGAR_METABOLISM P-Value: 0.005545123310259213\n",
      "REACTOME_RRNA_MODIFICATION_IN_THE_NUCLEUS_AND_CYTOSOL P-Value: 0.007498627370493952\n",
      "REACTOME_HIV_TRANSCRIPTION_INITIATION P-Value: 0.018989665863958997\n",
      "REACTOME_RUNX1_INTERACTS_WITH_CO_FACTORS_WHOSE_PRECISE_EFFECT_ON_RUNX1_TARGETS_IS_NOT_KNOWN P-Value: 0.030226996146355385\n",
      "REACTOME_BASIGIN_INTERACTIONS P-Value: 0.0396044108845427\n",
      "===== 35 enriched pathways\n"
     ]
    }
   ],
   "source": [
    "print(\"finished enrichment\")\n",
    "print_enriched_pathways(filtered_pathways, FDR_threshold)"
   ],
   "metadata": {
    "collapsed": false,
    "ExecuteTime": {
     "end_time": "2024-01-20T12:00:59.318199100Z",
     "start_time": "2024-01-20T12:00:59.258702400Z"
    }
   },
   "id": "bc2ff917278974b9",
   "execution_count": 13
  },
  {
   "cell_type": "code",
   "outputs": [],
   "source": [],
   "metadata": {
    "collapsed": false
   },
   "id": "6563f89a9e0b245b"
  }
 ],
 "metadata": {
  "kernelspec": {
   "display_name": "Python 3",
   "language": "python",
   "name": "python3"
  },
  "language_info": {
   "codemirror_mode": {
    "name": "ipython",
    "version": 2
   },
   "file_extension": ".py",
   "mimetype": "text/x-python",
   "name": "python",
   "nbconvert_exporter": "python",
   "pygments_lexer": "ipython2",
   "version": "2.7.6"
  }
 },
 "nbformat": 4,
 "nbformat_minor": 5
}
